{
 "cells": [
  {
   "cell_type": "markdown",
   "id": "a2ffc33f-5f9b-4b49-b02e-9ee501f7fcef",
   "metadata": {},
   "source": [
    "# Data Science Tools and Ecosystem"
   ]
  },
  {
   "cell_type": "markdown",
   "id": "1bc812c0-6e40-4586-95a6-38348f3a217a",
   "metadata": {},
   "source": [
    "In this notebook, Data Science Tools and Ecosystems are summarized."
   ]
  },
  {
   "cell_type": "markdown",
   "id": "da5f9704-9808-4b0c-b9a8-0d3730301293",
   "metadata": {},
   "source": [
    "**Objectives:**\n",
    "* Popular Languages of Data Scientists\n",
    "* Commonly used libraries by Data Scientists\n",
    "* Data Science Tools\n",
    "* Examples of Evaluating Arithmetic Expressions in Python"
   ]
  },
  {
   "cell_type": "markdown",
   "id": "6ad7b726-2745-491b-9f0a-d6ea6e45004f",
   "metadata": {},
   "source": [
    "Some of the popular languages that Data Scientists use are:\n",
    "* Python\n",
    "* R\n",
    "* SQL"
   ]
  },
  {
   "cell_type": "markdown",
   "id": "3ae29b79-d421-4530-b548-a65f3481cc94",
   "metadata": {},
   "source": [
    "Some of the commonly used libraries used by Data Scientists include:\n",
    "- Pandas\n",
    "- SciPy\n",
    "- Keras\n",
    "- TensorFlwo"
   ]
  },
  {
   "cell_type": "markdown",
   "id": "29934d12-ed48-41ef-8c3e-bb980f7ff110",
   "metadata": {},
   "source": [
    "| **Data Science Tools** |\n",
    "-------------------\n",
    "| Apache Spark |\n",
    "| Jupyter Notebook |\n",
    "| Matplotlib |--\n",
    "\n"
   ]
  },
  {
   "cell_type": "markdown",
   "id": "3a6d0b23-44e6-4abc-80fd-098f99cb85e7",
   "metadata": {},
   "source": [
    "### Below are a few examples of evaluating arithmetic expressions in Python"
   ]
  },
  {
   "cell_type": "code",
   "execution_count": 26,
   "id": "1dcd70a5-f483-4f32-87cb-2783414df766",
   "metadata": {},
   "outputs": [
    {
     "data": {
      "text/plain": [
       "17"
      ]
     },
     "execution_count": 26,
     "metadata": {},
     "output_type": "execute_result"
    }
   ],
   "source": [
    "# This a simple arithmetic expression to mutiply then add integers\n",
    "(3*4)+5"
   ]
  },
  {
   "cell_type": "code",
   "execution_count": 28,
   "id": "c065db32-27c4-47eb-9859-c16612999ec7",
   "metadata": {},
   "outputs": [
    {
     "data": {
      "text/plain": [
       "3.3333333333333335"
      ]
     },
     "execution_count": 28,
     "metadata": {},
     "output_type": "execute_result"
    }
   ],
   "source": [
    "# This will convert 200 minutes to hours by diving by 60\n",
    "200/60"
   ]
  },
  {
   "cell_type": "markdown",
   "id": "2b24233e-1af3-4473-ab0f-41c89b6a3834",
   "metadata": {},
   "source": [
    "## Author\n",
    "Luca Staccone"
   ]
  }
 ],
 "metadata": {
  "kernelspec": {
   "display_name": "Python 3 (ipykernel)",
   "language": "python",
   "name": "python3"
  },
  "language_info": {
   "codemirror_mode": {
    "name": "ipython",
    "version": 3
   },
   "file_extension": ".py",
   "mimetype": "text/x-python",
   "name": "python",
   "nbconvert_exporter": "python",
   "pygments_lexer": "ipython3",
   "version": "3.12.4"
  }
 },
 "nbformat": 4,
 "nbformat_minor": 5
}
