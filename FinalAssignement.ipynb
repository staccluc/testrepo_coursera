{
 "cells": [
  {
   "cell_type": "markdown",
   "id": "d2c24fbb-ef51-45a4-9231-0523e020e9f2",
   "metadata": {},
   "source": [
    "## **Final Assignement**"
   ]
  },
  {
   "cell_type": "markdown",
   "id": "7019e19f-dca7-4536-9b20-be588ee42650",
   "metadata": {},
   "source": [
    "*Exercise #2: Create a markdown cell with the title of the notebook.*"
   ]
  },
  {
   "cell_type": "markdown",
   "id": "4f77fbe9-53ef-4030-a150-f97409374d21",
   "metadata": {},
   "source": [
    "# *Tools for Data Science - Coursera - IBM Data Science Professional Certificate*"
   ]
  },
  {
   "cell_type": "markdown",
   "id": "011e67fe-c891-42b3-a6f9-1f572183babc",
   "metadata": {},
   "source": [
    "*Exercise #3: Create a markdown cell for an introduction.*"
   ]
  },
  {
   "cell_type": "markdown",
   "id": "cab9731a-f7d5-47d0-b297-88145ea424b1",
   "metadata": {},
   "source": [
    "This Notebook will summarize the tools used for data science which are explained in the course \"Tools for data science\" in Coursera."
   ]
  },
  {
   "cell_type": "markdown",
   "id": "5a0f1e38-c6cb-4337-9cd0-608ca736b762",
   "metadata": {},
   "source": [
    "*Exercise #4: Exercise 4 - Create a markdown cell to list data science languages.*"
   ]
  },
  {
   "cell_type": "markdown",
   "id": "dfc1266c-fce7-426a-8d62-67826b984faa",
   "metadata": {},
   "source": [
    "Popular languages data scientists use are...\n",
    "* Python\n",
    "* SQL\n",
    "* R\n",
    "* Julia\n",
    "* Scala"
   ]
  },
  {
   "cell_type": "markdown",
   "id": "09a6617e-da76-41f9-8c29-10be5bf5098f",
   "metadata": {},
   "source": [
    "*Exercise #5: Create a markdown cell to list data science libraries.*"
   ]
  },
  {
   "cell_type": "markdown",
   "id": "f700773f-ccb5-444f-b965-e118c03d1df2",
   "metadata": {},
   "source": [
    "Popular libraries data scientists use are...\n",
    "* NumPy\n",
    "* Matplotlib\n",
    "* SciPy\n",
    "* Seaborn\n",
    "* Pandas"
   ]
  },
  {
   "cell_type": "markdown",
   "id": "4a93de53-ffc9-4ea7-bdba-5f5a199225fe",
   "metadata": {},
   "source": [
    "*Exercise #6: Create a markdown cell with a table of Data Science tools.*"
   ]
  },
  {
   "cell_type": "markdown",
   "id": "e70d8e18-bb8a-4d56-bd70-f925ba1ca06a",
   "metadata": {},
   "source": [
    "Popular tools data scientists use are...\n",
    "\n",
    "| Tools |\n",
    "-------------\n",
    "| IBM SPSS |\n",
    "| R |\n",
    "| Jupyter Notebook |\n",
    "| Keras |\n",
    "| Matlab |"
   ]
  },
  {
   "cell_type": "markdown",
   "id": "b3837567-6e93-412d-9411-70abcf844cda",
   "metadata": {},
   "source": [
    "*Exercise #7: Create a markdown cell introducing arithmetic expression examples.* "
   ]
  },
  {
   "cell_type": "markdown",
   "id": "dab0c40c-2990-48ff-8fa9-4d28f8632e91",
   "metadata": {},
   "source": [
    "Below are shown some examples for introducing arithmetic expressions,"
   ]
  },
  {
   "cell_type": "code",
   "execution_count": 26,
   "id": "1e91b181-3420-47f7-8007-e2ba419cd8f1",
   "metadata": {},
   "outputs": [
    {
     "data": {
      "text/plain": [
       "220"
      ]
     },
     "execution_count": 26,
     "metadata": {},
     "output_type": "execute_result"
    }
   ],
   "source": [
    "((15*15)+100)-105"
   ]
  },
  {
   "cell_type": "code",
   "execution_count": 34,
   "id": "badf18f1-4af0-4f7e-8ba6-119dfb06af86",
   "metadata": {},
   "outputs": [
    {
     "data": {
      "text/plain": [
       "1.0"
      ]
     },
     "execution_count": 34,
     "metadata": {},
     "output_type": "execute_result"
    }
   ],
   "source": [
    "((25*25)/25)/25"
   ]
  },
  {
   "cell_type": "markdown",
   "id": "621b2a58-e72f-4fe9-be50-425b46d93d57",
   "metadata": {},
   "source": [
    "*Exercise #8: Create a code cell to multiply and add numbers.*"
   ]
  },
  {
   "cell_type": "code",
   "execution_count": 39,
   "id": "6775ca69-cc31-4715-aac8-a5714e4d3baa",
   "metadata": {},
   "outputs": [
    {
     "data": {
      "text/plain": [
       "42"
      ]
     },
     "execution_count": 39,
     "metadata": {},
     "output_type": "execute_result"
    }
   ],
   "source": [
    "#This is an example of how to multiply and add numbers.\n",
    "(3*3*3)+15"
   ]
  },
  {
   "cell_type": "markdown",
   "id": "52a7d5e6-a5e2-47b4-9102-ec1785b6564c",
   "metadata": {},
   "source": [
    "*Exercise #9: Create a code cell to convert minutes to hours.*"
   ]
  },
  {
   "cell_type": "code",
   "execution_count": 42,
   "id": "0c88803a-6d49-4f28-9b4f-9c6d5eec1f1b",
   "metadata": {},
   "outputs": [
    {
     "data": {
      "text/plain": [
       "6.0"
      ]
     },
     "execution_count": 42,
     "metadata": {},
     "output_type": "execute_result"
    }
   ],
   "source": [
    "#To convert minutes into hours, you need to divide by \"60\".\n",
    "360/60"
   ]
  },
  {
   "cell_type": "markdown",
   "id": "e0132cd1-c6cc-4615-824f-c5a20c741bd4",
   "metadata": {},
   "source": [
    "*Exercise #10: Insert a markdown cell to list Objectives.*"
   ]
  },
  {
   "cell_type": "markdown",
   "id": "5e664ceb-2c73-4cc5-85e3-ac2d17f8bd12",
   "metadata": {},
   "source": [
    "### Below you'll find one of the main objectives in data science:\n",
    "1. Collecting data\n",
    "2. Agreeing on the assignement\n",
    "3. Exploring and visualizing data\n",
    "4. Analyzing data and/or applying machine learning\n",
    "5. Decicing or planning based on acquired insight"
   ]
  },
  {
   "cell_type": "markdown",
   "id": "c38fb2b9-b9ed-44f5-9f98-9f4ec87c433f",
   "metadata": {},
   "source": [
    "*Exercise #11: Create a markdown cell to indicate the Author’s name.*"
   ]
  },
  {
   "cell_type": "markdown",
   "id": "fdcc9dee-0cb2-411d-8cda-1f885ef59da1",
   "metadata": {},
   "source": [
    "Author"
   ]
  },
  {
   "cell_type": "markdown",
   "id": "cd82a3ed-59a0-4baf-8082-b67a1c3850eb",
   "metadata": {},
   "source": [
    "#### **Luca**"
   ]
  },
  {
   "cell_type": "code",
   "execution_count": null,
   "id": "c35ffe74-d24e-4a64-b4ca-43de76c42556",
   "metadata": {},
   "outputs": [],
   "source": []
  }
 ],
 "metadata": {
  "kernelspec": {
   "display_name": "Python 3 (ipykernel)",
   "language": "python",
   "name": "python3"
  },
  "language_info": {
   "codemirror_mode": {
    "name": "ipython",
    "version": 3
   },
   "file_extension": ".py",
   "mimetype": "text/x-python",
   "name": "python",
   "nbconvert_exporter": "python",
   "pygments_lexer": "ipython3",
   "version": "3.12.4"
  }
 },
 "nbformat": 4,
 "nbformat_minor": 5
}
